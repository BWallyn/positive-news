{
 "cells": [
  {
   "cell_type": "markdown",
   "metadata": {},
   "source": [
    "# Analyze data from NewsDataAPIClient"
   ]
  },
  {
   "cell_type": "markdown",
   "metadata": {},
   "source": [
    "# 1. Imports"
   ]
  },
  {
   "cell_type": "markdown",
   "metadata": {},
   "source": [
    "## 1.1 Packages"
   ]
  },
  {
   "cell_type": "code",
   "execution_count": 24,
   "metadata": {},
   "outputs": [],
   "source": [
    "import pandas as pd\n",
    "import sys\n",
    "import yaml"
   ]
  },
  {
   "cell_type": "markdown",
   "metadata": {},
   "source": [
    "## 1.2 Options"
   ]
  },
  {
   "cell_type": "code",
   "execution_count": 25,
   "metadata": {},
   "outputs": [
    {
     "name": "stdout",
     "output_type": "stream",
     "text": [
      "The autoreload extension is already loaded. To reload it, use:\n",
      "  %reload_ext autoreload\n"
     ]
    }
   ],
   "source": [
    "%load_ext autoreload\n",
    "%autoreload 2"
   ]
  },
  {
   "cell_type": "code",
   "execution_count": 26,
   "metadata": {},
   "outputs": [],
   "source": [
    "path_credentials = '../conf/local/credentials.yml'"
   ]
  },
  {
   "cell_type": "code",
   "execution_count": 27,
   "metadata": {},
   "outputs": [],
   "source": [
    "with open(path_credentials) as file:\n",
    "    credentials = yaml.safe_load(file)"
   ]
  },
  {
   "cell_type": "markdown",
   "metadata": {},
   "source": [
    "## 1.3 Functions"
   ]
  },
  {
   "cell_type": "code",
   "execution_count": 28,
   "metadata": {},
   "outputs": [],
   "source": [
    "sys.path.append('../src/positive_news/pipelines/')\n",
    "\n",
    "from data_engineering.nodes import (  # noqa: E402\n",
    "    drop_unavailable_columns,\n",
    "    request_news,\n",
    "    set_string_columns,\n",
    ")\n"
   ]
  },
  {
   "cell_type": "markdown",
   "metadata": {},
   "source": [
    "# 2. Data"
   ]
  },
  {
   "cell_type": "code",
   "execution_count": 29,
   "metadata": {},
   "outputs": [],
   "source": [
    "# df_news = request_news(api_key=credentials['news_data_api_key'], max_result=2)\n",
    "# df_news.to_parquet('../data/01_raw/df_news_test.parquet')"
   ]
  },
  {
   "cell_type": "code",
   "execution_count": 30,
   "metadata": {},
   "outputs": [],
   "source": [
    "df_news = pd.read_parquet('../data/01_raw/df_news_test.parquet')"
   ]
  },
  {
   "cell_type": "code",
   "execution_count": 31,
   "metadata": {},
   "outputs": [],
   "source": [
    "df_news = drop_unavailable_columns(df_news)\n",
    "df_news = set_string_columns(df_news, cat_columns=[\"country\", \"category\"])"
   ]
  },
  {
   "cell_type": "code",
   "execution_count": 32,
   "metadata": {},
   "outputs": [
    {
     "data": {
      "text/html": [
       "<div>\n",
       "<style scoped>\n",
       "    .dataframe tbody tr th:only-of-type {\n",
       "        vertical-align: middle;\n",
       "    }\n",
       "\n",
       "    .dataframe tbody tr th {\n",
       "        vertical-align: top;\n",
       "    }\n",
       "\n",
       "    .dataframe thead th {\n",
       "        text-align: right;\n",
       "    }\n",
       "</style>\n",
       "<table border=\"1\" class=\"dataframe\">\n",
       "  <thead>\n",
       "    <tr style=\"text-align: right;\">\n",
       "      <th></th>\n",
       "      <th>article_id</th>\n",
       "      <th>title</th>\n",
       "      <th>link</th>\n",
       "      <th>keywords</th>\n",
       "      <th>creator</th>\n",
       "      <th>video_url</th>\n",
       "      <th>description</th>\n",
       "      <th>pubDate</th>\n",
       "      <th>image_url</th>\n",
       "      <th>source_id</th>\n",
       "      <th>source_priority</th>\n",
       "      <th>source_name</th>\n",
       "      <th>source_url</th>\n",
       "      <th>source_icon</th>\n",
       "      <th>language</th>\n",
       "      <th>country</th>\n",
       "      <th>category</th>\n",
       "      <th>duplicate</th>\n",
       "    </tr>\n",
       "  </thead>\n",
       "  <tbody>\n",
       "    <tr>\n",
       "      <th>3</th>\n",
       "      <td>957775374b734f1a17c46031589d8d02</td>\n",
       "      <td>How to Leave the House</td>\n",
       "      <td>https://lithub.com/how-to-leave-the-house/</td>\n",
       "      <td>[fiction and poetry, from the novel, novels, e...</td>\n",
       "      <td>[Lit Hub Excerpts]</td>\n",
       "      <td>None</td>\n",
       "      <td>Despite all evidence to the contrary, Natwest ...</td>\n",
       "      <td>2024-08-15 08:46:29</td>\n",
       "      <td>https://s26162.pcdn.co/wp-content/uploads/2024...</td>\n",
       "      <td>lithub</td>\n",
       "      <td>9479</td>\n",
       "      <td>Literary Hub</td>\n",
       "      <td>https://lithub.com</td>\n",
       "      <td>None</td>\n",
       "      <td>english</td>\n",
       "      <td>['united states of america']</td>\n",
       "      <td>['top']</td>\n",
       "      <td>False</td>\n",
       "    </tr>\n",
       "    <tr>\n",
       "      <th>56</th>\n",
       "      <td>4a2075f45f0ba03c5667c631e3efa2bf</td>\n",
       "      <td>After 100 Days Post-Earthquake, Taiwan's Silks...</td>\n",
       "      <td>https://www.prnewswire.com/apac/news-releases/...</td>\n",
       "      <td>None</td>\n",
       "      <td>None</td>\n",
       "      <td>None</td>\n",
       "      <td>TAIPEI, Aug. 15, 2024 /PRNewswire/ -- At 7:58A...</td>\n",
       "      <td>2024-08-15 07:57:00</td>\n",
       "      <td>https://mma.prnewswire.com/media/2482888/LUXAS...</td>\n",
       "      <td>prnewswire_apac</td>\n",
       "      <td>1822</td>\n",
       "      <td>Pr Newswire Apac</td>\n",
       "      <td>https://www.prnewswire.com/apac</td>\n",
       "      <td>https://i.bytvi.com/domain_icons/prnewswire_ap...</td>\n",
       "      <td>english</td>\n",
       "      <td>['afghanistan' 'india' 'australia' 'singapore'...</td>\n",
       "      <td>['business' 'politics']</td>\n",
       "      <td>False</td>\n",
       "    </tr>\n",
       "  </tbody>\n",
       "</table>\n",
       "</div>"
      ],
      "text/plain": [
       "                          article_id  \\\n",
       "3   957775374b734f1a17c46031589d8d02   \n",
       "56  4a2075f45f0ba03c5667c631e3efa2bf   \n",
       "\n",
       "                                                title  \\\n",
       "3                              How to Leave the House   \n",
       "56  After 100 Days Post-Earthquake, Taiwan's Silks...   \n",
       "\n",
       "                                                 link  \\\n",
       "3          https://lithub.com/how-to-leave-the-house/   \n",
       "56  https://www.prnewswire.com/apac/news-releases/...   \n",
       "\n",
       "                                             keywords             creator  \\\n",
       "3   [fiction and poetry, from the novel, novels, e...  [Lit Hub Excerpts]   \n",
       "56                                               None                None   \n",
       "\n",
       "   video_url                                        description  \\\n",
       "3       None  Despite all evidence to the contrary, Natwest ...   \n",
       "56      None  TAIPEI, Aug. 15, 2024 /PRNewswire/ -- At 7:58A...   \n",
       "\n",
       "                pubDate                                          image_url  \\\n",
       "3   2024-08-15 08:46:29  https://s26162.pcdn.co/wp-content/uploads/2024...   \n",
       "56  2024-08-15 07:57:00  https://mma.prnewswire.com/media/2482888/LUXAS...   \n",
       "\n",
       "          source_id  source_priority       source_name  \\\n",
       "3            lithub             9479      Literary Hub   \n",
       "56  prnewswire_apac             1822  Pr Newswire Apac   \n",
       "\n",
       "                         source_url  \\\n",
       "3                https://lithub.com   \n",
       "56  https://www.prnewswire.com/apac   \n",
       "\n",
       "                                          source_icon language  \\\n",
       "3                                                None  english   \n",
       "56  https://i.bytvi.com/domain_icons/prnewswire_ap...  english   \n",
       "\n",
       "                                              country  \\\n",
       "3                        ['united states of america']   \n",
       "56  ['afghanistan' 'india' 'australia' 'singapore'...   \n",
       "\n",
       "                   category  duplicate  \n",
       "3                   ['top']      False  \n",
       "56  ['business' 'politics']      False  "
      ]
     },
     "execution_count": 32,
     "metadata": {},
     "output_type": "execute_result"
    }
   ],
   "source": [
    "df_news.sample(2)"
   ]
  },
  {
   "cell_type": "code",
   "execution_count": 33,
   "metadata": {},
   "outputs": [
    {
     "data": {
      "text/plain": [
       "Index(['article_id', 'title', 'link', 'keywords', 'creator', 'video_url',\n",
       "       'description', 'pubDate', 'image_url', 'source_id', 'source_priority',\n",
       "       'source_name', 'source_url', 'source_icon', 'language', 'country',\n",
       "       'category', 'duplicate'],\n",
       "      dtype='object')"
      ]
     },
     "execution_count": 33,
     "metadata": {},
     "output_type": "execute_result"
    }
   ],
   "source": [
    "df_news.columns"
   ]
  },
  {
   "cell_type": "code",
   "execution_count": null,
   "metadata": {},
   "outputs": [],
   "source": []
  }
 ],
 "metadata": {
  "kernelspec": {
   "display_name": ".venv",
   "language": "python",
   "name": "python3"
  },
  "language_info": {
   "codemirror_mode": {
    "name": "ipython",
    "version": 3
   },
   "file_extension": ".py",
   "mimetype": "text/x-python",
   "name": "python",
   "nbconvert_exporter": "python",
   "pygments_lexer": "ipython3",
   "version": "3.11.8"
  }
 },
 "nbformat": 4,
 "nbformat_minor": 2
}
